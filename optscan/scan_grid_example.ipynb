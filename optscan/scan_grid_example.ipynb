{
 "cells": [
  {
   "cell_type": "code",
   "execution_count": 1,
   "id": "435ce56e-c19f-446b-8a33-8c7e02d23b77",
   "metadata": {},
   "outputs": [],
   "source": [
    "# imports of the packages\n",
    "import matplotlib.pyplot as plt\n",
    "import numpy as np\n",
    "from optscan import get_path_statistics, create_scan_grid, find_good_path"
   ]
  },
  {
   "cell_type": "code",
   "execution_count": 2,
   "id": "bd939e6f-78df-4fbc-b857-ba9724d7df4c",
   "metadata": {},
   "outputs": [],
   "source": [
    "# initializing parameters\n",
    "params = dict()\n",
    "\n",
    "#### Edit session ####\n",
    "params['hrange'] = 20 # horizontal range in microns\n",
    "params['vrange'] = 20 # vertical range in microns\n",
    "params['hspeed'] = 100 # in microns/s\n",
    "params['vspeed'] = 100 # in microns/s\n",
    "params['step_size'] = 3 # step size in microns\n",
    "params['central_point'] = True\n",
    "params['center']  = (0,0) # center of the scan\n",
    "params['scangrid'] = 'ROUND_ROI' # grid type\n",
    "params['expo_time'] = 0.1 # exposure time per point in seconds\n",
    "params['overhead_time'] = 0.1 # possible overhead in seconds\n",
    "######################"
   ]
  },
  {
   "cell_type": "code",
   "execution_count": 3,
   "id": "b0cf63b2-0435-4e64-bdf6-216ed70db85e",
   "metadata": {},
   "outputs": [
    {
     "name": "stdout",
     "output_type": "stream",
     "text": [
      "Creating scan grid\n",
      "Doing Round_roi calculation with parameteres:\n",
      "hrz_range=20, vrt_range=20, step_size=3\n",
      "The scan grid contains 39 points\n"
     ]
    },
    {
     "ename": "TypeError",
     "evalue": "get_path_statistics() takes 1 positional argument but 3 were given",
     "output_type": "error",
     "traceback": [
      "\u001b[0;31m---------------------------------------------------------------------------\u001b[0m",
      "\u001b[0;31mTypeError\u001b[0m                                 Traceback (most recent call last)",
      "\u001b[0;32m/tmp/ipykernel_135/3365087920.py\u001b[0m in \u001b[0;36m<module>\u001b[0;34m\u001b[0m\n\u001b[1;32m      5\u001b[0m \u001b[0mpc\u001b[0m \u001b[0;34m=\u001b[0m \u001b[0mlen\u001b[0m\u001b[0;34m(\u001b[0m\u001b[0mpl\u001b[0m\u001b[0;34m)\u001b[0m\u001b[0;34m\u001b[0m\u001b[0;34m\u001b[0m\u001b[0m\n\u001b[1;32m      6\u001b[0m \u001b[0;31m# Calculates Statistics : paths lengths and time\u001b[0m\u001b[0;34m\u001b[0m\u001b[0;34m\u001b[0m\u001b[0;34m\u001b[0m\u001b[0m\n\u001b[0;32m----> 7\u001b[0;31m \u001b[0mph\u001b[0m\u001b[0;34m,\u001b[0m \u001b[0mpv\u001b[0m\u001b[0;34m,\u001b[0m \u001b[0mpt\u001b[0m \u001b[0;34m=\u001b[0m \u001b[0mget_path_statistics\u001b[0m\u001b[0;34m(\u001b[0m\u001b[0mpl\u001b[0m\u001b[0;34m,\u001b[0m \u001b[0mparams\u001b[0m\u001b[0;34m[\u001b[0m\u001b[0;34m'hspeed'\u001b[0m\u001b[0;34m]\u001b[0m\u001b[0;34m,\u001b[0m \u001b[0mparams\u001b[0m\u001b[0;34m[\u001b[0m\u001b[0;34m'vspeed'\u001b[0m\u001b[0;34m]\u001b[0m\u001b[0;34m)\u001b[0m\u001b[0;34m\u001b[0m\u001b[0;34m\u001b[0m\u001b[0m\n\u001b[0m\u001b[1;32m      8\u001b[0m \u001b[0mTt\u001b[0m \u001b[0;34m=\u001b[0m \u001b[0mpt\u001b[0m \u001b[0;34m+\u001b[0m \u001b[0mpc\u001b[0m\u001b[0;34m*\u001b[0m\u001b[0;34m(\u001b[0m\u001b[0mparams\u001b[0m\u001b[0;34m[\u001b[0m\u001b[0;34m'expo_time'\u001b[0m\u001b[0;34m]\u001b[0m \u001b[0;34m+\u001b[0m \u001b[0mparams\u001b[0m\u001b[0;34m[\u001b[0m\u001b[0;34m'overhead_time'\u001b[0m\u001b[0;34m]\u001b[0m\u001b[0;34m)\u001b[0m \u001b[0;31m# total time\u001b[0m\u001b[0;34m\u001b[0m\u001b[0;34m\u001b[0m\u001b[0m\n\u001b[1;32m      9\u001b[0m \u001b[0;31m# print results\u001b[0m\u001b[0;34m\u001b[0m\u001b[0;34m\u001b[0m\u001b[0;34m\u001b[0m\u001b[0m\n",
      "\u001b[0;31mTypeError\u001b[0m: get_path_statistics() takes 1 positional argument but 3 were given"
     ]
    }
   ],
   "source": [
    "## Before optimization\n",
    "print('Creating scan grid')\n",
    "datai = create_scan_grid(**params)\n",
    "pl = datai['locations']\n",
    "pc = len(pl)\n",
    "# Calculates Statistics : paths lengths and time\n",
    "ph, pv, pt = get_path_statistics(pl, params['hspeed'], params['vspeed'])\n",
    "Tt = pt + pc*(params['expo_time'] + params['overhead_time']) # total time\n",
    "# print results\n",
    "# before\n",
    "print('\\n#---------------------------------#')\n",
    "print('#      Before optimization        #')\n",
    "print('#---------------------------------#')\n",
    "print('Point counts: {:d}'.format(pc))\n",
    "print('Path horizontal length: {:.03f} microns'.format(ph))\n",
    "print('Path Vertical length: {:.03f} microns'.format(pv))\n",
    "print('Path total time: {:.02f} s'.format(pt))\n",
    "print('Total time: {:.02f} s'.format(Tt))\n",
    "print('#---------------------------------#\\n')"
   ]
  },
  {
   "cell_type": "code",
   "execution_count": null,
   "id": "086f7296-58e3-4356-91d7-489c827184a7",
   "metadata": {},
   "outputs": [],
   "source": [
    "## Optimization with Euclidean distance\n",
    "print('Starting optimization')\n",
    "# Euclidean distance\n",
    "print('Using Euclidean distance')\n",
    "params['distance_method'] = 'Euclidean'\n",
    "datae = find_good_path(datai,params['distance_method'])#main(**params)\n",
    "plopte = datae['trajectory']\n",
    "pcopte = len(plopte)\n",
    "# Calculates Statistics : paths lengths and time\n",
    "phopte, pvopte, ptopte = get_path_statistics(plopte)\n",
    "Ttopte = ptopte + pcopte*(params['expo_time'] + params['overhead_time'])\n",
    "# after optimization (Euclidean)\n",
    "print('#---------------------------------#')\n",
    "print('# After optimization - Euclidean  #')\n",
    "print('#---------------------------------#')\n",
    "print('Point counts: {:d}'.format(pcopte))\n",
    "print('Path horizontal length: {:.03f} microns'.format(phopte))\n",
    "print('Path Vertical length: {:.03f} microns'.format(pvopte))\n",
    "print('Path total time: {:.02f} s'.format(ptopte))\n",
    "print('Total time: {:.02f} s'.format(Ttopte))\n",
    "print('#---------------------------------#\\n')\n"
   ]
  },
  {
   "cell_type": "code",
   "execution_count": null,
   "id": "23549d56-f8bb-453c-8b61-fe856fc551a4",
   "metadata": {},
   "outputs": [],
   "source": [
    "# Optimization with Chebyshev distance\n",
    "print('Using Chebyshev distance')\n",
    "params['distance_method'] = 'Chebyshev'\n",
    "datac = find_good_path(datai,params['distance_method'])#main(**params)\n",
    "ploptc = datac['trajectory']\n",
    "pcoptc = len(ploptc)\n",
    "# Calculates Statistics : paths lengths and time\n",
    "phoptc, pvoptc, ptoptc = get_path_statistics(ploptc)\n",
    "Ttoptc = ptoptc + pcoptc*(params['expo_time'] + params['overhead_time'])\n",
    "# after optimization (Chebyshev)\n",
    "print('#---------------------------------#')\n",
    "print('# After optimization - Chebyshev  #')\n",
    "print('#---------------------------------#')\n",
    "print('Point counts: {:d}'.format(pcoptc))\n",
    "print('Path horizontal length: {:.03f} microns'.format(phoptc))\n",
    "print('Path Vertical length: {:.03f} microns'.format(pvoptc))\n",
    "print('Path total time: {:.02f} s'.format(ptoptc))\n",
    "print('Total time: {:.02f} s'.format(Ttoptc))\n",
    "print('#---------------------------------#\\n')"
   ]
  },
  {
   "cell_type": "code",
   "execution_count": null,
   "id": "f6aa54d6-edf7-4c79-859a-043b19da35d3",
   "metadata": {},
   "outputs": [],
   "source": [
    "# display plots\n",
    "plt.close('all')\n",
    "multiplier = 1 # in case of change of units\n",
    "# display figures\n",
    "# before optimization\n",
    "fig1 = plt.figure(1)\n",
    "plt.clf()\n",
    "ax1 = fig1.add_subplot(111)\n",
    "im1 = ax1.plot(pl[:,0]*multiplier,pl[:,1]*multiplier,'ro-')\n",
    "ax1.plot(pl[:,0][0]*multiplier,pl[:,1][0]*multiplier,'b^-')\n",
    "ax1.plot(pl[:,0][-1]*multiplier,pl[:,1][-1]*multiplier,'gs-')\n",
    "ax1.set_xlabel('Horizontal motor positions ($\\mu$m)',fontsize = 18)\n",
    "ax1.set_ylabel('Vertical motor positions ($\\mu$m)',fontsize = 18)\n",
    "ax1.set_title('Motor positions (Before optimization)')\n",
    "ax1.tick_params(labelsize = 16)\n",
    "plt.axis('image')\n",
    "plt.tight_layout()\n",
    "plt.show(block=False)\n",
    "#plt.savefig('grid_calculated_nooptim_{}x{}_{}.png'.format(params['hrange'],\n",
    "#            params['vrange'],params['step_size']),bbox_inches='tight',dpi=200)\n",
    "\n",
    "# After optimization (Euclidean)\n",
    "fig2 = plt.figure(2)\n",
    "plt.clf()\n",
    "ax2 = fig2.add_subplot(111)\n",
    "im2 = ax2.plot(plopte[:,0]*multiplier,plopte[:,1]*multiplier,'ro-')\n",
    "ax2.plot(plopte[:,0][0]*multiplier,plopte[:,1][0]*multiplier,'b^-')\n",
    "ax2.plot(plopte[:,0][-1]*multiplier,plopte[:,1][-1]*multiplier,'gs-')\n",
    "ax2.set_xlabel('Horizontal motor positions ($\\mu$m)',fontsize = 18)\n",
    "ax2.set_ylabel('Vertical motor positions ($\\mu$m)',fontsize = 18)\n",
    "ax2.set_title('Motor positions (After optimization - Euclidean)')\n",
    "ax2.tick_params(labelsize = 16)\n",
    "plt.axis('image')\n",
    "plt.tight_layout()\n",
    "plt.show(block=False)\n",
    "#plt.savefig('grid_optimized_Euclidean_{}x{}_{}.png'.format(params['hrange'],\n",
    "#            params['vrange'],params['step_size']),bbox_inches='tight',dpi=200)\n",
    "\n",
    "# After optimization (Chebyshev)\n",
    "fig3 = plt.figure(3)\n",
    "plt.clf()\n",
    "ax3 = fig3.add_subplot(111)\n",
    "im3 = ax3.plot(ploptc[:,0]*multiplier,ploptc[:,1]*multiplier,'ro-')\n",
    "ax3.plot(ploptc[:,0][0]*multiplier,ploptc[:,1][0]*multiplier,'b^-')\n",
    "ax3.plot(ploptc[:,0][-1]*multiplier,ploptc[:,1][-1]*multiplier,'gs-')\n",
    "ax3.set_xlabel('Horizontal motor positions ($\\mu$m)',fontsize = 18)\n",
    "ax3.set_ylabel('Vertical motor positions ($\\mu$m)',fontsize = 18)\n",
    "ax3.set_title('Motor positions (After optimization - Chebyshev)')\n",
    "ax3.tick_params(labelsize = 16)\n",
    "plt.axis('image')\n",
    "plt.tight_layout()\n",
    "plt.show(block=False)\n",
    "#plt.savefig('grid_optimized_Chebyshev_{}x{}_{}.png'.format(params['hrange'],\n",
    "#            params['vrange'],params['step_size']),bbox_inches='tight',dpi=200)"
   ]
  },
  {
   "cell_type": "code",
   "execution_count": null,
   "id": "1f3dd059-873f-4b96-9751-caaed1aff02d",
   "metadata": {},
   "outputs": [],
   "source": []
  }
 ],
 "metadata": {
  "kernelspec": {
   "display_name": "Python 3 (ipykernel)",
   "language": "python",
   "name": "python3"
  },
  "language_info": {
   "codemirror_mode": {
    "name": "ipython",
    "version": 3
   },
   "file_extension": ".py",
   "mimetype": "text/x-python",
   "name": "python",
   "nbconvert_exporter": "python",
   "pygments_lexer": "ipython3",
   "version": "3.7.10"
  }
 },
 "nbformat": 4,
 "nbformat_minor": 5
}
